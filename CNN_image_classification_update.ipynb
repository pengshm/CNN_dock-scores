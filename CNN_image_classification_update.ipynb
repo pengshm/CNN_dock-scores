{
  "nbformat": 4,
  "nbformat_minor": 0,
  "metadata": {
    "accelerator": "GPU",
    "colab": {
      "provenance": []
    },
    "kernelspec": {
      "display_name": "Python 3",
      "language": "python",
      "name": "python3"
    },
    "language_info": {
      "codemirror_mode": {
        "name": "ipython",
        "version": 3
      },
      "file_extension": ".py",
      "mimetype": "text/x-python",
      "name": "python",
      "nbconvert_exporter": "python",
      "pygments_lexer": "ipython3",
      "version": "3.7.6"
    }
  },
  "cells": [
    {
      "cell_type": "markdown",
      "metadata": {
        "deletable": false,
        "editable": false,
        "id": "64bIrOv5rEYJ",
        "nbgrader": {
          "cell_type": "markdown",
          "checksum": "2e176d1ab1160888bd08953c1fec6598",
          "grade": false,
          "grade_id": "cell-559e06fab022e928",
          "locked": true,
          "schema_version": 3,
          "solution": false
        }
      },
      "source": [
        "## Convolutional Neural Networks\n",
        "\n",
        "Building a neural network using PyTorch for FashionMnist data for Image classification.\n",
        "\n",
        "Convolutional Neural Network is the most popular approach to extracting features from an image without too much computation (compared to a fully connected layer)."
      ]
    },
    {
      "cell_type": "markdown",
      "metadata": {
        "deletable": false,
        "editable": false,
        "id": "QNjuVk66rEYO",
        "nbgrader": {
          "cell_type": "markdown",
          "checksum": "6da914e441f04a8a66e6dceec29a35c4",
          "grade": false,
          "grade_id": "cell-98105dbd82868b57",
          "locked": true,
          "schema_version": 3,
          "solution": false,
          "task": false
        }
      },
      "source": [
        "Import the neccesary packages required to build the model.\n",
        "Fix a seed through out the process to have a deterministic behaviour (reproduce same results) of the model."
      ]
    },
    {
      "cell_type": "code",
      "metadata": {
        "colab": {
          "base_uri": "https://localhost:8080/"
        },
        "deletable": false,
        "editable": false,
        "id": "9v4EAhu1rEYO",
        "nbgrader": {
          "cell_type": "code",
          "checksum": "19fe0393c09e9a63890d67116c2c72f2",
          "grade": false,
          "grade_id": "cell-675473914c4b9f68",
          "locked": true,
          "schema_version": 3,
          "solution": false
        },
        "outputId": "6626f57b-27fa-4e27-c918-f1314b1f1166"
      },
      "source": [
        "## Imports\n",
        "import os\n",
        "import time\n",
        "import numpy as np\n",
        "import torch\n",
        "import random\n",
        "import torchvision\n",
        "import torchvision.transforms as transforms\n",
        "from torch.utils.data.sampler import SubsetRandomSampler\n",
        "import numpy.testing as npt\n",
        "#from torchsummary import summary\n",
        "# from tqdm import trange\n",
        "\n",
        "# Checks for the availability of GPU\n",
        "is_cuda = torch.cuda.is_available()\n",
        "if torch.cuda.is_available():\n",
        "    print(\"working on gpu!\")\n",
        "else:\n",
        "    print(\"No gpu! only cpu ;)\")\n",
        "\n",
        "\n",
        "random.seed(0)\n",
        "np.random.seed(0)\n",
        "torch.manual_seed(0)\n",
        "torch.cuda.manual_seed_all(0)\n",
        "torch.backends.cudnn.deterministic = True\n",
        "torch.backends.cudnn.benchmark = False\n",
        "os.environ['PYTHONHASHSEED'] = '0'\n"
      ],
      "execution_count": 1,
      "outputs": [
        {
          "output_type": "stream",
          "name": "stdout",
          "text": [
            "working on gpu!\n"
          ]
        }
      ]
    },
    {
      "cell_type": "markdown",
      "metadata": {
        "deletable": false,
        "editable": false,
        "id": "dBP8tQblrEYQ",
        "nbgrader": {
          "cell_type": "markdown",
          "checksum": "7eb19f0b795a90d9575c1139d3a87e7c",
          "grade": false,
          "grade_id": "cell-9c87add622617c1e",
          "locked": true,
          "schema_version": 3,
          "solution": false
        }
      },
      "source": [
        "### Setting up the DataLoaders\n",
        "\n",
        "Using IFashionMNIST dataset"
      ]
    },
    {
      "cell_type": "code",
      "metadata": {
        "deletable": false,
        "editable": false,
        "id": "xueQ11uDrEYQ",
        "nbgrader": {
          "cell_type": "code",
          "checksum": "f9026479c9b2db3497126f8ec4a5868f",
          "grade": false,
          "grade_id": "cell-e518bb36bae17b30",
          "locked": true,
          "schema_version": 3,
          "solution": false
        },
        "colab": {
          "base_uri": "https://localhost:8080/"
        },
        "outputId": "65c8604c-2edd-4802-9a08-96f969c22094"
      },
      "source": [
        "import torchvision\n",
        "import torchvision.transforms as transforms\n",
        "import os\n",
        "\n",
        "if not os.path.isdir('./data'):\n",
        "    os.mkdir('./data')\n",
        "root = './data/'\n",
        "\n",
        "# List of transformation on the data - normalize the image data to (-1,1)\n",
        "transform = transforms.Compose([transforms.ToTensor(),transforms.Normalize((0.5), (0.5)),])\n",
        "# Geta  handle to Load the data\n",
        "training_data = torchvision.datasets.FashionMNIST(root, train=True, transform=transform,download=True)\n",
        "testing_data = torchvision.datasets.FashionMNIST(root, train=False, transform=transform,download=True)\n",
        "\n",
        "num_train = len(training_data)\n",
        "indices = list(range(num_train))\n",
        "np.random.shuffle(indices)\n",
        "split = int(np.floor(0.2 * num_train))\n",
        "train_idx, valid_idx = indices[split:], indices[:split]\n",
        "\n",
        "train_bs = 60\n",
        "test_bs = 50\n",
        "\n",
        "train_sampler = SubsetRandomSampler(train_idx)\n",
        "valid_sampler = SubsetRandomSampler(valid_idx)\n",
        "\n",
        "# Create Data loaders, use to extract minibatches of data to input to the network for training\n",
        "train_loader = torch.utils.data.DataLoader(training_data, batch_size=train_bs,\n",
        "    sampler=train_sampler, drop_last=False)\n",
        "valid_loader = torch.utils.data.DataLoader(training_data, batch_size=train_bs,\n",
        "    sampler=valid_sampler, drop_last=False)\n",
        "test_loader = torch.utils.data.DataLoader(testing_data, batch_size=test_bs,\n",
        "    drop_last=False)\n"
      ],
      "execution_count": 2,
      "outputs": [
        {
          "output_type": "stream",
          "name": "stdout",
          "text": [
            "Downloading http://fashion-mnist.s3-website.eu-central-1.amazonaws.com/train-images-idx3-ubyte.gz\n",
            "Downloading http://fashion-mnist.s3-website.eu-central-1.amazonaws.com/train-images-idx3-ubyte.gz to ./data/FashionMNIST/raw/train-images-idx3-ubyte.gz\n"
          ]
        },
        {
          "output_type": "stream",
          "name": "stderr",
          "text": [
            "100%|██████████| 26421880/26421880 [00:11<00:00, 2336547.71it/s]\n"
          ]
        },
        {
          "output_type": "stream",
          "name": "stdout",
          "text": [
            "Extracting ./data/FashionMNIST/raw/train-images-idx3-ubyte.gz to ./data/FashionMNIST/raw\n",
            "\n",
            "Downloading http://fashion-mnist.s3-website.eu-central-1.amazonaws.com/train-labels-idx1-ubyte.gz\n",
            "Downloading http://fashion-mnist.s3-website.eu-central-1.amazonaws.com/train-labels-idx1-ubyte.gz to ./data/FashionMNIST/raw/train-labels-idx1-ubyte.gz\n"
          ]
        },
        {
          "output_type": "stream",
          "name": "stderr",
          "text": [
            "100%|██████████| 29515/29515 [00:00<00:00, 201974.28it/s]\n"
          ]
        },
        {
          "output_type": "stream",
          "name": "stdout",
          "text": [
            "Extracting ./data/FashionMNIST/raw/train-labels-idx1-ubyte.gz to ./data/FashionMNIST/raw\n",
            "\n",
            "Downloading http://fashion-mnist.s3-website.eu-central-1.amazonaws.com/t10k-images-idx3-ubyte.gz\n",
            "Downloading http://fashion-mnist.s3-website.eu-central-1.amazonaws.com/t10k-images-idx3-ubyte.gz to ./data/FashionMNIST/raw/t10k-images-idx3-ubyte.gz\n"
          ]
        },
        {
          "output_type": "stream",
          "name": "stderr",
          "text": [
            "100%|██████████| 4422102/4422102 [00:04<00:00, 1065956.21it/s]\n"
          ]
        },
        {
          "output_type": "stream",
          "name": "stdout",
          "text": [
            "Extracting ./data/FashionMNIST/raw/t10k-images-idx3-ubyte.gz to ./data/FashionMNIST/raw\n",
            "\n",
            "Downloading http://fashion-mnist.s3-website.eu-central-1.amazonaws.com/t10k-labels-idx1-ubyte.gz\n",
            "Downloading http://fashion-mnist.s3-website.eu-central-1.amazonaws.com/t10k-labels-idx1-ubyte.gz to ./data/FashionMNIST/raw/t10k-labels-idx1-ubyte.gz\n"
          ]
        },
        {
          "output_type": "stream",
          "name": "stderr",
          "text": [
            "100%|██████████| 5148/5148 [00:00<00:00, 23885262.16it/s]"
          ]
        },
        {
          "output_type": "stream",
          "name": "stdout",
          "text": [
            "Extracting ./data/FashionMNIST/raw/t10k-labels-idx1-ubyte.gz to ./data/FashionMNIST/raw\n",
            "\n"
          ]
        },
        {
          "output_type": "stream",
          "name": "stderr",
          "text": [
            "\n"
          ]
        }
      ]
    },
    {
      "cell_type": "markdown",
      "metadata": {
        "deletable": false,
        "editable": false,
        "id": "3CQY7vi4rEYQ",
        "nbgrader": {
          "cell_type": "markdown",
          "checksum": "6f5531a49684a81df0e0f59102be6227",
          "grade": false,
          "grade_id": "cell-f9b382eeb7593ce2",
          "locked": true,
          "schema_version": 3,
          "solution": false,
          "task": false
        }
      },
      "source": [
        "### Visualize a Few Data Samples\n",
        "\n",
        "In the following cell use a random batch of images together with labels and visualize them."
      ]
    },
    {
      "cell_type": "code",
      "metadata": {
        "colab": {
          "base_uri": "https://localhost:8080/",
          "height": 669
        },
        "deletable": false,
        "editable": false,
        "id": "3aQM8-KfrEYR",
        "nbgrader": {
          "cell_type": "code",
          "checksum": "87e6c7dfdb9d4d57ab2421fad9e63cb9",
          "grade": false,
          "grade_id": "cell-1168a8b4140174bf",
          "locked": true,
          "schema_version": 3,
          "solution": false
        },
        "scrolled": true,
        "outputId": "7f132d9d-1014-41f1-a951-8575e1e75d9f"
      },
      "source": [
        "import matplotlib.pyplot as plt\n",
        "%matplotlib inline\n",
        "\n",
        "test_iter = iter(test_loader)\n",
        "images, labels = next(test_iter)\n",
        "\n",
        "\n",
        "\n",
        "image_dict = {0:'T-shirt/Top', 1:'Trouser', 2:'Pullover', 3:'Dress',\n",
        "              4:'Coat', 5:'Sandal', 6:'Shirt', 7:'Sneaker',\n",
        "              8:'Bag', 9:'Ankle Boot'}\n",
        "\n",
        "fig = plt.figure(figsize=(8,8))\n",
        "\n",
        "print(images.size())\n",
        "\n",
        "for i in np.arange(1, 13):\n",
        "    ax = fig.add_subplot(3,4,i, frameon=False)\n",
        "    img = images[i][0]\n",
        "    ax.set_title(image_dict[labels[i].item()])\n",
        "    plt.imshow(img, cmap='gray')\n"
      ],
      "execution_count": 19,
      "outputs": [
        {
          "output_type": "stream",
          "name": "stdout",
          "text": [
            "torch.Size([50, 1, 28, 28])\n"
          ]
        },
        {
          "output_type": "display_data",
          "data": {
            "text/plain": [
              "<Figure size 800x800 with 12 Axes>"
            ],
            "image/png": "[encoded data removed]"
          },
          "metadata": {}
        }
      ]
    },
    {
      "cell_type": "markdown",
      "metadata": {
        "deletable": false,
        "editable": false,
        "id": "shsQOK9SrEYR",
        "nbgrader": {
          "cell_type": "markdown",
          "checksum": "6dcbe042b4711d11eafae3ec791e14b6",
          "grade": false,
          "grade_id": "cell-f48cb922457e6d1e",
          "locked": true,
          "schema_version": 3,
          "solution": false,
          "task": false
        }
      },
      "source": [
        "### Architecture\n",
        "\n",
        "I implement a Convolutional Neural Network as our model.\n",
        "The layers in our model.\n",
        "- a convolution layer for extracting features.\n",
        "- batchnorm layer for normalizing the weights.\n",
        "- ReLU activation function for the non-linearity between layers.\n",
        "- Finally fully connected layers in the end.\n",
        "\n",
        "#### Model:\n",
        "\n",
        "The following convolutional neural network architecture for our dataset.\n",
        "\n",
        "- convolution layer output_channels-16 kernel_size=3 stride=1 padding-1\n",
        "- batchnormalization layer\n",
        "- ReLU activation layer\n",
        "- maxpool layer kernel_size=2 stride=2\n",
        "- convolution layer output_channels-32 kernel_size=3 stride=1 padding-1\n",
        "- batchnormalization layer\n",
        "- ReLU activation layer\n",
        "- maxpool layer kernel_size=2 stride=2\n",
        "- convolution layer output_channels-64 kernel_size=5 stride=1 padding-2\n",
        "- batchnormalization layer\n",
        "- ReLU activation layer\n",
        "- maxpool layer kernel_size=2 stride=2\n",
        "- fully connected layer - number_of_classes\n",
        "\n",
        "### Build the model\n",
        "\n",
        "- Frist define a class called Model nheriting from Pytorch's nn.Module.\n",
        "- In init(constructor), define all the layers that are used to build the model\n",
        "- Define a forward function for a sequential model that takes in images as input and returns the predictions as output.\n"
      ]
    },
    {
      "cell_type": "code",
      "metadata": {
        "deletable": false,
        "id": "BIJgXe8grEYS",
        "nbgrader": {
          "cell_type": "code",
          "checksum": "517fa5c8accc5740302af5e2cfbcc415",
          "grade": false,
          "grade_id": "network_model_soln",
          "locked": false,
          "schema_version": 3,
          "solution": true
        }
      },
      "source": [
        "import torch.nn as nn\n",
        "\n",
        "class Model(nn.Module):\n",
        "    ## init function is the constructor and we define all the layers used in our model.\n",
        "    def __init__(self, num_classes=10):\n",
        "        super(Model, self).__init__()\n",
        "\n",
        "\n",
        "        self.conv1 = nn.Conv2d(in_channels=1,out_channels=16,kernel_size=3,stride=1,padding=1)\n",
        "        self.bn1 = nn.BatchNorm2d(16)\n",
        "        self.relu1 = nn.ReLU()\n",
        "        self.pool1 = nn.MaxPool2d(kernel_size=2,stride=2)\n",
        "\n",
        "        self.conv2 = nn.Conv2d(in_channels=16,out_channels=32,kernel_size=3,stride=1,padding=1)\n",
        "        self.bn2 = nn.BatchNorm2d(32)\n",
        "        self.relu2 = nn.ReLU()\n",
        "        self.pool2 = nn.MaxPool2d(kernel_size=2,stride=2)\n",
        "\n",
        "        self.conv3 = nn.Conv2d(in_channels=32,out_channels=64,kernel_size=5,stride=1,padding=2)\n",
        "        self.bn3 = nn.BatchNorm2d(64)\n",
        "        self.relu3 = nn.ReLU()\n",
        "        self.pool3 = nn.MaxPool2d(kernel_size=2,stride=2)\n",
        "\n",
        "        self.fc = nn.Linear(576,num_classes)\n",
        "\n",
        "\n",
        "    def forward(self, x):\n",
        "\n",
        "        x = self.conv1(x)\n",
        "        x = self.bn1(x)\n",
        "\n",
        "        x = self.relu1(x)\n",
        "        x = self.pool1(x)\n",
        "\n",
        "        x = self.conv2(x)\n",
        "        x = self.bn2(x)\n",
        "        x = self.relu2(x)\n",
        "        x = self.pool2(x)\n",
        "\n",
        "        x = self.conv3(x)\n",
        "        x = self.bn3(x)\n",
        "        x = self.relu3(x)\n",
        "        x = self.pool3(x)\n",
        "\n",
        "        x = self.flatten(x)\n",
        "        x = self.fc(x)\n",
        "\n",
        "        return x\n",
        "\n",
        "\n",
        "    def flatten(self,x):\n",
        "        N, C, H, W = x.size()\n",
        "        #reshape x to (N, C*H*W)\n",
        "\n",
        "        # your code here\n",
        "        x = x.view(N,C*H*W)\n",
        "\n",
        "        return x\n",
        "\n",
        "\n"
      ],
      "execution_count": 5,
      "outputs": []
    },
    {
      "cell_type": "code",
      "metadata": {
        "deletable": false,
        "editable": false,
        "id": "prxsnKgirEYS",
        "nbgrader": {
          "cell_type": "code",
          "checksum": "e8b0566eda978f395e9851885f70d7db",
          "grade": true,
          "grade_id": "network_model_soln_test",
          "locked": true,
          "points": 30,
          "schema_version": 3,
          "solution": false
        }
      },
      "source": [
        "model = Model(num_classes=10)\n",
        "test_input1 = torch.randn(16,1,28,28)\n",
        "out1 = model(test_input1)\n",
        "test_input2 = torch.rand(20,1,28,28)\n",
        "out2 = model(test_input2)"
      ],
      "execution_count": 6,
      "outputs": []
    },
    {
      "cell_type": "code",
      "metadata": {
        "id": "IvXGBtROrEYT"
      },
      "source": [
        "# Setting up a few learning parameters\n",
        "learning_rate = 1e-2\n",
        "decayRate = 0.999\n",
        "epochs = 5\n",
        "number_of_classes = 10"
      ],
      "execution_count": 7,
      "outputs": []
    },
    {
      "cell_type": "markdown",
      "metadata": {
        "id": "XjHis8E-rEYT"
      },
      "source": [
        "### Initialize the CNN Model\n",
        "\n",
        "Define a loss criterion, use cross-entropy loss between the predictions and ground truth to estimate the loss.\n",
        "\n",
        "\n",
        "Define a optimization strategy to update the weights. Adam optimizer from the PyTorch package."
      ]
    },
    {
      "cell_type": "code",
      "metadata": {
        "deletable": false,
        "id": "jqDuph8prEYT",
        "nbgrader": {
          "cell_type": "code",
          "checksum": "dff0b3cd47411f8bf3dc16268a3a7c6e",
          "grade": false,
          "grade_id": "optim_soln",
          "locked": false,
          "schema_version": 3,
          "solution": true
        },
        "colab": {
          "base_uri": "https://localhost:8080/"
        },
        "outputId": "a1905b85-4b76-438e-d1ae-78ca489d12cd"
      },
      "source": [
        "## define an instance of the model to train\n",
        "model = Model(num_classes=number_of_classes)\n",
        "print(model)\n",
        "\n",
        "#Move the model to the gpu if is_cuda\n",
        "if is_cuda:\n",
        "  model = model.cuda()\n",
        "\n",
        "# define the loss 'criterion' as nn.CrossEntropyLoss() object\n",
        "\n",
        "criterion = nn.CrossEntropyLoss()\n",
        "\n",
        "\n",
        "# Initialize the Adam optimizer for the model.parameters() using the learning_rate\n",
        "\n",
        "optimizer = torch.optim.Adam(model.parameters(),lr=learning_rate)\n",
        "\n",
        "# learning rate scheduler\n",
        "my_lr_scheduler = torch.optim.lr_scheduler.ExponentialLR(optimizer=optimizer, gamma=decayRate)\n",
        "\n",
        "# optimizer = None"
      ],
      "execution_count": 8,
      "outputs": [
        {
          "output_type": "stream",
          "name": "stdout",
          "text": [
            "Model(\n",
            "  (conv1): Conv2d(1, 16, kernel_size=(3, 3), stride=(1, 1), padding=(1, 1))\n",
            "  (bn1): BatchNorm2d(16, eps=1e-05, momentum=0.1, affine=True, track_running_stats=True)\n",
            "  (relu1): ReLU()\n",
            "  (pool1): MaxPool2d(kernel_size=2, stride=2, padding=0, dilation=1, ceil_mode=False)\n",
            "  (conv2): Conv2d(16, 32, kernel_size=(3, 3), stride=(1, 1), padding=(1, 1))\n",
            "  (bn2): BatchNorm2d(32, eps=1e-05, momentum=0.1, affine=True, track_running_stats=True)\n",
            "  (relu2): ReLU()\n",
            "  (pool2): MaxPool2d(kernel_size=2, stride=2, padding=0, dilation=1, ceil_mode=False)\n",
            "  (conv3): Conv2d(32, 64, kernel_size=(5, 5), stride=(1, 1), padding=(2, 2))\n",
            "  (bn3): BatchNorm2d(64, eps=1e-05, momentum=0.1, affine=True, track_running_stats=True)\n",
            "  (relu3): ReLU()\n",
            "  (pool3): MaxPool2d(kernel_size=2, stride=2, padding=0, dilation=1, ceil_mode=False)\n",
            "  (fc): Linear(in_features=576, out_features=10, bias=True)\n",
            ")\n"
          ]
        }
      ]
    },
    {
      "cell_type": "code",
      "metadata": {
        "deletable": false,
        "editable": false,
        "id": "mklkuII0rEYT",
        "nbgrader": {
          "cell_type": "code",
          "checksum": "7c3ddc62849e994cda0149bd7085e6ee",
          "grade": true,
          "grade_id": "optim_soln_test",
          "locked": true,
          "points": 10,
          "schema_version": 3,
          "solution": false
        }
      },
      "source": [
        "out = torch.FloatTensor([[0.1,0.8,0.05,0.05]])\n",
        "true = torch.LongTensor([1])\n",
        "assert criterion(out, true), 0.8925"
      ],
      "execution_count": 9,
      "outputs": []
    },
    {
      "cell_type": "markdown",
      "metadata": {
        "deletable": false,
        "editable": false,
        "id": "wqD65PCSrEYU",
        "nbgrader": {
          "cell_type": "markdown",
          "checksum": "4e52cd64b766001f7527c8f64e0a0870",
          "grade": false,
          "grade_id": "cell-1e2e5baffbc2c303",
          "locked": true,
          "schema_version": 3,
          "solution": false
        }
      },
      "source": [
        "### Training the Model\n",
        "\n",
        "The training loop is setup in the following way:\n",
        "\n",
        "For every batch in the defined number of epochs\n",
        "\n",
        "- Move the images and labels to the gpu by checking is_cuda\n",
        "- Extract output by passing images through the model\n",
        "- pass the output and ground truth to the loss criterion for batch loss\n",
        "- clear the gradients\n",
        "- backpropagate (compute gradients w.r.t the parameters) using backward()\n",
        "- update the parameters with a single optimization step\n",
        "- update the training loss for plots\n",
        "\n",
        "repeat"
      ]
    },
    {
      "cell_type": "code",
      "metadata": {
        "deletable": false,
        "id": "t3CtvtqQrEYU",
        "nbgrader": {
          "cell_type": "code",
          "checksum": "06673cae7788c67677e8deda3b73c167",
          "grade": false,
          "grade_id": "train_model_soln",
          "locked": false,
          "schema_version": 3,
          "solution": true
        }
      },
      "source": [
        "## training loop\n",
        "\n",
        "## Number of epochs the model runs\n",
        "\n",
        "def train_model(epochs=25, validate=True):\n",
        "    '''\n",
        "    A function to train the model on the dataset and returns the trained model, training loss and\n",
        "    validation loss for every epoch.\n",
        "\n",
        "    Inputs:\n",
        "        epochs: Number of times the model should be trained on the whole data.\n",
        "        validate: A boolean parameter that validates on validation data.\n",
        "\n",
        "    Outputs:\n",
        "        model: The model trained for specified number of epochs\n",
        "        training loss: A list of training losses computed for every epoch.\n",
        "        validation loss: A list of validation losses computed for every epoch.\n",
        "\n",
        "    '''\n",
        "    train_loss = []\n",
        "    val_loss = []\n",
        "\n",
        "    for epoch in range(epochs):\n",
        "        # Iterate through the batches in the data\n",
        "        training_loss = 0.0\n",
        "        validation_loss = 0.0\n",
        "\n",
        "        model.train()\n",
        "        itr = 0\n",
        "        for (images,labels)  in train_loader:\n",
        "            if is_cuda:\n",
        "                images=images.cuda()\n",
        "                labels=labels.cuda()\n",
        "            outputs=model(images)\n",
        "            loss = criterion(outputs,labels)\n",
        "\n",
        "            optimizer.zero_grad()\n",
        "            loss.backward()\n",
        "            optimizer.step()\n",
        "            my_lr_scheduler.step()\n",
        "            training_loss+=loss.item()\n",
        "\n",
        "\n",
        "\n",
        "            if itr%100 == 0:\n",
        "                print('Epoch %d/%d, itr = %d, Train Loss = %.3f, LR = %.3E'\\\n",
        "                      %(epoch, epochs, itr, loss.item(),optimizer.param_groups[0]['lr']))\n",
        "            itr += 1\n",
        "        train_loss.append(training_loss/len(train_loader))\n",
        "        print('------------------------------------------------')\n",
        "\n",
        "\n",
        "        if validate:\n",
        "            model.eval()\n",
        "            with torch.no_grad():\n",
        "                itr = 0\n",
        "                for (images,labels)  in valid_loader:\n",
        "                    if is_cuda:\n",
        "                        images=images.cuda()\n",
        "                        labels=labels.cuda()\n",
        "                    outputs=model(images)\n",
        "                    loss = criterion(outputs,labels)\n",
        "                    validation_loss+=loss.item()\n",
        "\n",
        "\n",
        "\n",
        "\n",
        "\n",
        "                    if itr%100 == 0:\n",
        "                        print('Epoch %d/%d, itr = %d, Val Loss = %.3f, LR = %.3E'\\\n",
        "                              %(epoch, epochs, itr, loss.item(),optimizer.param_groups[0]['lr']))\n",
        "                    itr += 1\n",
        "                val_loss.append(validation_loss/len(valid_loader))\n",
        "                print('################################################')\n",
        "\n",
        "    return model, train_loss, val_loss\n"
      ],
      "execution_count": 10,
      "outputs": []
    },
    {
      "cell_type": "code",
      "metadata": {
        "deletable": false,
        "editable": false,
        "id": "FP0Z9aPyrEYU",
        "nbgrader": {
          "cell_type": "code",
          "checksum": "9850cf853a8d0e7a84387bbb72f8c10f",
          "grade": false,
          "grade_id": "cell-3ef122427f827977",
          "locked": true,
          "schema_version": 3,
          "solution": false
        },
        "colab": {
          "base_uri": "https://localhost:8080/"
        },
        "outputId": "e390917c-c369-4459-89e5-7ffdab80dccc"
      },
      "source": [
        "start = time.time()\n",
        "trained_model, train_loss, val_loss = train_model(epochs, validate=True)\n",
        "end = time.time()\n",
        "print('Time to train in seconds ',(end - start))"
      ],
      "execution_count": 11,
      "outputs": [
        {
          "output_type": "stream",
          "name": "stdout",
          "text": [
            "Epoch 0/5, itr = 0, Train Loss = 2.381, LR = 9.990E-03\n",
            "Epoch 0/5, itr = 100, Train Loss = 0.478, LR = 9.039E-03\n",
            "Epoch 0/5, itr = 200, Train Loss = 0.540, LR = 8.178E-03\n",
            "Epoch 0/5, itr = 300, Train Loss = 0.470, LR = 7.400E-03\n",
            "Epoch 0/5, itr = 400, Train Loss = 0.367, LR = 6.695E-03\n",
            "Epoch 0/5, itr = 500, Train Loss = 0.409, LR = 6.058E-03\n",
            "Epoch 0/5, itr = 600, Train Loss = 0.217, LR = 5.481E-03\n",
            "Epoch 0/5, itr = 700, Train Loss = 0.276, LR = 4.959E-03\n",
            "------------------------------------------------\n",
            "Epoch 0/5, itr = 0, Val Loss = 0.306, LR = 4.491E-03\n",
            "Epoch 0/5, itr = 100, Val Loss = 0.213, LR = 4.491E-03\n",
            "################################################\n",
            "Epoch 1/5, itr = 0, Train Loss = 0.250, LR = 4.487E-03\n",
            "Epoch 1/5, itr = 100, Train Loss = 0.260, LR = 4.060E-03\n",
            "Epoch 1/5, itr = 200, Train Loss = 0.222, LR = 3.673E-03\n",
            "Epoch 1/5, itr = 300, Train Loss = 0.295, LR = 3.324E-03\n",
            "Epoch 1/5, itr = 400, Train Loss = 0.161, LR = 3.007E-03\n",
            "Epoch 1/5, itr = 500, Train Loss = 0.263, LR = 2.721E-03\n",
            "Epoch 1/5, itr = 600, Train Loss = 0.354, LR = 2.462E-03\n",
            "Epoch 1/5, itr = 700, Train Loss = 0.102, LR = 2.227E-03\n",
            "------------------------------------------------\n",
            "Epoch 1/5, itr = 0, Val Loss = 0.171, LR = 2.017E-03\n",
            "Epoch 1/5, itr = 100, Val Loss = 0.409, LR = 2.017E-03\n",
            "################################################\n",
            "Epoch 2/5, itr = 0, Train Loss = 0.111, LR = 2.015E-03\n",
            "Epoch 2/5, itr = 100, Train Loss = 0.136, LR = 1.823E-03\n",
            "Epoch 2/5, itr = 200, Train Loss = 0.249, LR = 1.650E-03\n",
            "Epoch 2/5, itr = 300, Train Loss = 0.185, LR = 1.493E-03\n",
            "Epoch 2/5, itr = 400, Train Loss = 0.191, LR = 1.351E-03\n",
            "Epoch 2/5, itr = 500, Train Loss = 0.238, LR = 1.222E-03\n",
            "Epoch 2/5, itr = 600, Train Loss = 0.314, LR = 1.106E-03\n",
            "Epoch 2/5, itr = 700, Train Loss = 0.146, LR = 1.000E-03\n",
            "------------------------------------------------\n",
            "Epoch 2/5, itr = 0, Val Loss = 0.479, LR = 9.061E-04\n",
            "Epoch 2/5, itr = 100, Val Loss = 0.158, LR = 9.061E-04\n",
            "################################################\n",
            "Epoch 3/5, itr = 0, Train Loss = 0.296, LR = 9.052E-04\n",
            "Epoch 3/5, itr = 100, Train Loss = 0.189, LR = 8.190E-04\n",
            "Epoch 3/5, itr = 200, Train Loss = 0.149, LR = 7.410E-04\n",
            "Epoch 3/5, itr = 300, Train Loss = 0.133, LR = 6.705E-04\n",
            "Epoch 3/5, itr = 400, Train Loss = 0.096, LR = 6.066E-04\n",
            "Epoch 3/5, itr = 500, Train Loss = 0.173, LR = 5.489E-04\n",
            "Epoch 3/5, itr = 600, Train Loss = 0.196, LR = 4.966E-04\n",
            "Epoch 3/5, itr = 700, Train Loss = 0.239, LR = 4.493E-04\n",
            "------------------------------------------------\n",
            "Epoch 3/5, itr = 0, Val Loss = 0.216, LR = 4.070E-04\n",
            "Epoch 3/5, itr = 100, Val Loss = 0.229, LR = 4.070E-04\n",
            "################################################\n",
            "Epoch 4/5, itr = 0, Train Loss = 0.116, LR = 4.066E-04\n",
            "Epoch 4/5, itr = 100, Train Loss = 0.117, LR = 3.679E-04\n",
            "Epoch 4/5, itr = 200, Train Loss = 0.164, LR = 3.328E-04\n",
            "Epoch 4/5, itr = 300, Train Loss = 0.226, LR = 3.011E-04\n",
            "Epoch 4/5, itr = 400, Train Loss = 0.183, LR = 2.725E-04\n",
            "Epoch 4/5, itr = 500, Train Loss = 0.126, LR = 2.465E-04\n",
            "Epoch 4/5, itr = 600, Train Loss = 0.137, LR = 2.231E-04\n",
            "Epoch 4/5, itr = 700, Train Loss = 0.145, LR = 2.018E-04\n",
            "------------------------------------------------\n",
            "Epoch 4/5, itr = 0, Val Loss = 0.129, LR = 1.828E-04\n",
            "Epoch 4/5, itr = 100, Val Loss = 0.178, LR = 1.828E-04\n",
            "################################################\n",
            "Time to train in seconds  77.65636730194092\n"
          ]
        }
      ]
    },
    {
      "cell_type": "code",
      "metadata": {
        "deletable": false,
        "editable": false,
        "id": "Z5Yy9QCurEYV",
        "nbgrader": {
          "cell_type": "code",
          "checksum": "8e12aa54daa529184ce87590889347cc",
          "grade": false,
          "grade_id": "cell-35244d9978da3c81",
          "locked": true,
          "schema_version": 3,
          "solution": false
        },
        "colab": {
          "base_uri": "https://localhost:8080/",
          "height": 449
        },
        "outputId": "147ae800-30bc-4ae7-d1c8-30ae0ee3adf6"
      },
      "source": [
        "# Plot the losses\n",
        "it = np.arange(epochs)\n",
        "plt.plot(it, train_loss, label='training loss')\n",
        "plt.plot(it, val_loss, label='validation loss')\n",
        "plt.xlabel('epochs')\n",
        "plt.ylabel('losses')\n",
        "plt.legend(loc='upper right')\n",
        "plt.show()"
      ],
      "execution_count": 13,
      "outputs": [
        {
          "output_type": "display_data",
          "data": {
            "text/plain": [
              "<Figure size 640x480 with 1 Axes>"
            ],
            "image/png": "[encoded data removed]"
          },
          "metadata": {}
        }
      ]
    },
    {
      "cell_type": "markdown",
      "metadata": {
        "deletable": false,
        "editable": false,
        "id": "nH_GcUV3rEYV",
        "nbgrader": {
          "cell_type": "markdown",
          "checksum": "bfa73d763cb1ddbd42d8ff1548d42e1c",
          "grade": false,
          "grade_id": "cell-fe85b51930497822",
          "locked": true,
          "schema_version": 3,
          "solution": false
        }
      },
      "source": [
        "### Testing the Classsification (30 points)\n",
        "\n",
        "In the testing loop we don't update the weights. The trained model is tested for all the samples in test data to compute the accuracy and observe how well the model is generalizing to the unseen data.\n",
        "\n",
        "The testing loop is setup in the following way:\n",
        "\n",
        "For every batch in the testing data\n",
        "\n",
        "- Put the model in the evaluation mode and turn off the gradients\n",
        "- Move the images and labels to the device available\n",
        "- extract output from the model for the input\n",
        "- compute the prediction class by choosing the one with maximum probability in the predictions.\n",
        "- Compare the prediction classes with true classes.\n",
        "- calculate accuracy\n",
        "- update test_loss for plots\n",
        "\n",
        "repeat\n"
      ]
    },
    {
      "cell_type": "code",
      "metadata": {
        "deletable": false,
        "id": "VwErQNu3rEYV",
        "nbgrader": {
          "cell_type": "code",
          "checksum": "6f32a3ca4f639cbfd8e5c64aa8775d11",
          "grade": false,
          "grade_id": "test_model_soln",
          "locked": false,
          "schema_version": 3,
          "solution": true
        }
      },
      "source": [
        "\n",
        "def evaluate_model(model, loader):\n",
        "    '''\n",
        "    A function to test the trained model on the dataset and print the accuracy on the testset.\n",
        "\n",
        "    Inputs:\n",
        "        model: Trained model\n",
        "        loader: train_loader or test_loader\n",
        "\n",
        "    outputs:\n",
        "        accuracy. returns the accuracy of prediction\n",
        "    '''\n",
        "    model.eval()\n",
        "    with torch.no_grad():\n",
        "        correct = 0\n",
        "        total_samples = 0\n",
        "        for images, labels in loader:\n",
        "\n",
        "            if is_cuda:\n",
        "                images=images.cuda()\n",
        "                labels=labels.cuda()\n",
        "\n",
        "            outputs=model(images)\n",
        "            predictions = torch.argmax(outputs, dim=1)\n",
        "\n",
        "            c_matrix = torch.where(predictions == labels, torch.tensor([1.]).to(\"cuda\"),torch.tensor([0.]).to(\"cuda\"))\n",
        "            correct+=torch.sum(c_matrix)\n",
        "\n",
        "\n",
        "\n",
        "            total_samples += labels.size(0)\n",
        "\n",
        "        accuracy = correct/total_samples*100\n",
        "        print(\"Total Accuracy on the Input set: {} %\".format(accuracy))\n",
        "        return accuracy"
      ],
      "execution_count": 14,
      "outputs": []
    },
    {
      "cell_type": "code",
      "metadata": {
        "deletable": false,
        "editable": false,
        "nbgrader": {
          "cell_type": "code",
          "checksum": "d0809b359b485a5d3c607c767fd2648e",
          "grade": false,
          "grade_id": "cell-99bb2d4e6a095086",
          "locked": true,
          "schema_version": 3,
          "solution": false,
          "task": false
        },
        "id": "H2Me7gt5LC-r",
        "colab": {
          "base_uri": "https://localhost:8080/"
        },
        "outputId": "d7562c58-05be-4134-ed81-8d14efd90b0c"
      },
      "source": [
        "tr_acc = evaluate_model(model, train_loader)\n",
        "ts_acc = evaluate_model(model, test_loader)\n",
        "print('Train Accuracy = %.3f'%(tr_acc))\n",
        "print('Test Accuracy = %.3f'%(ts_acc))"
      ],
      "execution_count": 23,
      "outputs": [
        {
          "output_type": "stream",
          "name": "stdout",
          "text": [
            "Total Accuracy on the Input set: 95.49166870117188 %\n",
            "Total Accuracy on the Input set: 91.74999237060547 %\n",
            "Train Accuracy = 95.492\n",
            "Test Accuracy = 91.750\n"
          ]
        }
      ]
    },
    {
      "cell_type": "code",
      "metadata": {
        "deletable": false,
        "editable": false,
        "id": "9_MkVg6ErEYW",
        "nbgrader": {
          "cell_type": "code",
          "checksum": "b4ece53bc914981efc7566f454d2c571",
          "grade": false,
          "grade_id": "cell-06766329c9d4e874",
          "locked": true,
          "schema_version": 3,
          "solution": false
        },
        "colab": {
          "base_uri": "https://localhost:8080/",
          "height": 981
        },
        "outputId": "aa2ba6d3-1c33-40d0-d693-6597a91ed7ec"
      },
      "source": [
        "# Visualize the test samples with predicted output and true output\n",
        "test_iter = iter(test_loader)\n",
        "images, labels = next(test_iter)\n",
        "\n",
        "# If CUDA is available, move the images to the GPU\n",
        "if is_cuda:\n",
        "    images = images.cuda()\n",
        "    labels = labels.cuda()\n",
        "\n",
        "out = model(images)\n",
        "_, preds = torch.max(out, dim=1)\n",
        "\n",
        "images = images.to('cpu').numpy()\n",
        "\n",
        "fig = plt.figure(figsize=(10,10))\n",
        "for i in np.arange(1, 13):\n",
        "    ax = fig.add_subplot(4, 3, i)\n",
        "    plt.imshow(images[i][0])\n",
        "    ax.set_title(\"Predicted: {}/ Actual: {}\".format(image_dict[preds[i].item()], image_dict[labels[i].item()]),\n",
        "                color=('green' if preds[i] == labels[i] else 'red'),fontsize=10)\n",
        "plt.tight_layout(pad=2.0)  # Adjust the padding\n",
        "plt.show()"
      ],
      "execution_count": 27,
      "outputs": [
        {
          "output_type": "display_data",
          "data": {
            "text/plain": [
              "<Figure size 1000x1000 with 12 Axes>"
            ],
            "image/png": "[encoded data removed]"
          },
          "metadata": {}
        }
      ]
    }
  ]
}